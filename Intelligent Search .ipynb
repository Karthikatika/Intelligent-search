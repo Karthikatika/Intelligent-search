{
 "cells": [
  {
   "cell_type": "code",
   "execution_count": 1,
   "id": "6282b78b",
   "metadata": {},
   "outputs": [
    {
     "name": "stdout",
     "output_type": "stream",
     "text": [
      "Collecting sentence-transformers\n",
      "  Downloading sentence_transformers-3.4.1-py3-none-any.whl (275 kB)\n",
      "Requirement already satisfied: scikit-learn in c:\\users\\karthika\\documents\\python scripts\\lib\\site-packages (1.1.1)\n",
      "Collecting huggingface-hub>=0.20.0\n",
      "  Downloading huggingface_hub-0.29.1-py3-none-any.whl (468 kB)\n",
      "Requirement already satisfied: scipy in c:\\users\\karthika\\documents\\python scripts\\lib\\site-packages (from sentence-transformers) (1.7.1)\n",
      "Requirement already satisfied: Pillow in c:\\users\\karthika\\documents\\python scripts\\lib\\site-packages (from sentence-transformers) (8.4.0)\n",
      "Collecting transformers<5.0.0,>=4.41.0\n",
      "  Downloading transformers-4.49.0-py3-none-any.whl (10.0 MB)\n",
      "Requirement already satisfied: tqdm in c:\\users\\karthika\\documents\\python scripts\\lib\\site-packages (from sentence-transformers) (4.62.3)\n",
      "Collecting torch>=1.11.0\n",
      "  Downloading torch-2.6.0-cp39-cp39-win_amd64.whl (204.1 MB)\n",
      "Requirement already satisfied: joblib>=1.0.0 in c:\\users\\karthika\\documents\\python scripts\\lib\\site-packages (from scikit-learn) (1.1.0)\n",
      "Requirement already satisfied: threadpoolctl>=2.0.0 in c:\\users\\karthika\\documents\\python scripts\\lib\\site-packages (from scikit-learn) (2.2.0)\n",
      "Requirement already satisfied: numpy>=1.17.3 in c:\\users\\karthika\\documents\\python scripts\\lib\\site-packages (from scikit-learn) (1.20.3)\n",
      "Collecting fsspec>=2023.5.0\n",
      "  Downloading fsspec-2025.2.0-py3-none-any.whl (184 kB)\n",
      "Requirement already satisfied: requests in c:\\users\\karthika\\documents\\python scripts\\lib\\site-packages (from huggingface-hub>=0.20.0->sentence-transformers) (2.26.0)\n",
      "Requirement already satisfied: typing-extensions>=3.7.4.3 in c:\\users\\karthika\\documents\\python scripts\\lib\\site-packages (from huggingface-hub>=0.20.0->sentence-transformers) (3.10.0.2)\n",
      "Requirement already satisfied: filelock in c:\\users\\karthika\\documents\\python scripts\\lib\\site-packages (from huggingface-hub>=0.20.0->sentence-transformers) (3.3.1)\n",
      "Requirement already satisfied: pyyaml>=5.1 in c:\\users\\karthika\\documents\\python scripts\\lib\\site-packages (from huggingface-hub>=0.20.0->sentence-transformers) (6.0)\n",
      "Requirement already satisfied: packaging>=20.9 in c:\\users\\karthika\\documents\\python scripts\\lib\\site-packages (from huggingface-hub>=0.20.0->sentence-transformers) (21.0)\n",
      "Requirement already satisfied: pyparsing>=2.0.2 in c:\\users\\karthika\\documents\\python scripts\\lib\\site-packages (from packaging>=20.9->huggingface-hub>=0.20.0->sentence-transformers) (3.0.4)\n",
      "Requirement already satisfied: networkx in c:\\users\\karthika\\documents\\python scripts\\lib\\site-packages (from torch>=1.11.0->sentence-transformers) (2.6.3)\n",
      "Collecting typing-extensions>=3.7.4.3\n",
      "  Using cached typing_extensions-4.12.2-py3-none-any.whl (37 kB)\n",
      "Requirement already satisfied: jinja2 in c:\\users\\karthika\\documents\\python scripts\\lib\\site-packages (from torch>=1.11.0->sentence-transformers) (2.11.3)\n",
      "Collecting sympy==1.13.1\n",
      "  Downloading sympy-1.13.1-py3-none-any.whl (6.2 MB)\n",
      "Requirement already satisfied: mpmath<1.4,>=1.1.0 in c:\\users\\karthika\\documents\\python scripts\\lib\\site-packages (from sympy==1.13.1->torch>=1.11.0->sentence-transformers) (1.2.1)\n",
      "Requirement already satisfied: colorama in c:\\users\\karthika\\documents\\python scripts\\lib\\site-packages (from tqdm->sentence-transformers) (0.4.4)\n",
      "Requirement already satisfied: regex!=2019.12.17 in c:\\users\\karthika\\documents\\python scripts\\lib\\site-packages (from transformers<5.0.0,>=4.41.0->sentence-transformers) (2021.8.3)\n",
      "Collecting safetensors>=0.4.1\n",
      "  Downloading safetensors-0.5.3-cp38-abi3-win_amd64.whl (308 kB)\n",
      "Collecting tokenizers<0.22,>=0.21\n",
      "  Downloading tokenizers-0.21.0-cp39-abi3-win_amd64.whl (2.4 MB)\n",
      "Requirement already satisfied: MarkupSafe>=0.23 in c:\\users\\karthika\\documents\\python scripts\\lib\\site-packages (from jinja2->torch>=1.11.0->sentence-transformers) (1.1.1)\n",
      "Requirement already satisfied: idna<4,>=2.5 in c:\\users\\karthika\\documents\\python scripts\\lib\\site-packages (from requests->huggingface-hub>=0.20.0->sentence-transformers) (3.2)\n",
      "Requirement already satisfied: urllib3<1.27,>=1.21.1 in c:\\users\\karthika\\documents\\python scripts\\lib\\site-packages (from requests->huggingface-hub>=0.20.0->sentence-transformers) (1.26.7)\n",
      "Requirement already satisfied: charset-normalizer~=2.0.0 in c:\\users\\karthika\\documents\\python scripts\\lib\\site-packages (from requests->huggingface-hub>=0.20.0->sentence-transformers) (2.0.4)\n",
      "Requirement already satisfied: certifi>=2017.4.17 in c:\\users\\karthika\\documents\\python scripts\\lib\\site-packages (from requests->huggingface-hub>=0.20.0->sentence-transformers) (2021.10.8)\n",
      "Installing collected packages: typing-extensions, fsspec, huggingface-hub, tokenizers, sympy, safetensors, transformers, torch, sentence-transformers\n",
      "  Attempting uninstall: typing-extensions\n",
      "    Found existing installation: typing-extensions 3.10.0.2\n",
      "    Uninstalling typing-extensions-3.10.0.2:\n",
      "      Successfully uninstalled typing-extensions-3.10.0.2\n",
      "  Attempting uninstall: fsspec\n",
      "    Found existing installation: fsspec 2021.10.1\n",
      "    Uninstalling fsspec-2021.10.1:\n",
      "      Successfully uninstalled fsspec-2021.10.1\n",
      "  Attempting uninstall: sympy\n",
      "    Found existing installation: sympy 1.9\n",
      "    Uninstalling sympy-1.9:\n",
      "      Successfully uninstalled sympy-1.9\n",
      "Successfully installed fsspec-2025.2.0 huggingface-hub-0.29.1 safetensors-0.5.3 sentence-transformers-3.4.1 sympy-1.13.1 tokenizers-0.21.0 torch-2.6.0 transformers-4.49.0 typing-extensions-4.12.2\n",
      "Note: you may need to restart the kernel to use updated packages.\n"
     ]
    }
   ],
   "source": [
    "pip install sentence-transformers scikit-learn\n"
   ]
  },
  {
   "cell_type": "code",
   "execution_count": 2,
   "id": "73951bbb",
   "metadata": {},
   "outputs": [],
   "source": [
    "from sentence_transformers import SentenceTransformer\n",
    "from sklearn.metrics.pairwise import cosine_similarity\n",
    "import numpy as np"
   ]
  },
  {
   "cell_type": "code",
   "execution_count": 3,
   "id": "d37710ec",
   "metadata": {},
   "outputs": [
    {
     "data": {
      "application/vnd.jupyter.widget-view+json": {
       "model_id": "a1b89848c88c4f89bb59661fe413c2d0",
       "version_major": 2,
       "version_minor": 0
      },
      "text/plain": [
       "modules.json:   0%|          | 0.00/349 [00:00<?, ?B/s]"
      ]
     },
     "metadata": {},
     "output_type": "display_data"
    },
    {
     "name": "stderr",
     "output_type": "stream",
     "text": [
      "C:\\Users\\karthika\\Documents\\Python Scripts\\lib\\site-packages\\huggingface_hub\\file_download.py:142: UserWarning: `huggingface_hub` cache-system uses symlinks by default to efficiently store duplicated files but your machine does not support them in C:\\Users\\karthika\\.cache\\huggingface\\hub\\models--sentence-transformers--all-MiniLM-L6-v2. Caching files will still work but in a degraded version that might require more space on your disk. This warning can be disabled by setting the `HF_HUB_DISABLE_SYMLINKS_WARNING` environment variable. For more details, see https://huggingface.co/docs/huggingface_hub/how-to-cache#limitations.\n",
      "To support symlinks on Windows, you either need to activate Developer Mode or to run Python as an administrator. In order to activate developer mode, see this article: https://docs.microsoft.com/en-us/windows/apps/get-started/enable-your-device-for-development\n",
      "  warnings.warn(message)\n"
     ]
    },
    {
     "data": {
      "application/vnd.jupyter.widget-view+json": {
       "model_id": "2baa37a426ad4a6681c7f867205441f3",
       "version_major": 2,
       "version_minor": 0
      },
      "text/plain": [
       "config_sentence_transformers.json:   0%|          | 0.00/116 [00:00<?, ?B/s]"
      ]
     },
     "metadata": {},
     "output_type": "display_data"
    },
    {
     "data": {
      "application/vnd.jupyter.widget-view+json": {
       "model_id": "64ba8c64f2f345d2a460f7e9ec6848c1",
       "version_major": 2,
       "version_minor": 0
      },
      "text/plain": [
       "README.md:   0%|          | 0.00/10.7k [00:00<?, ?B/s]"
      ]
     },
     "metadata": {},
     "output_type": "display_data"
    },
    {
     "data": {
      "application/vnd.jupyter.widget-view+json": {
       "model_id": "41f9b44b0b0945718ac1eec593668a48",
       "version_major": 2,
       "version_minor": 0
      },
      "text/plain": [
       "sentence_bert_config.json:   0%|          | 0.00/53.0 [00:00<?, ?B/s]"
      ]
     },
     "metadata": {},
     "output_type": "display_data"
    },
    {
     "data": {
      "application/vnd.jupyter.widget-view+json": {
       "model_id": "d3d1208c6dbb4c5c8d90506213a1d71a",
       "version_major": 2,
       "version_minor": 0
      },
      "text/plain": [
       "config.json:   0%|          | 0.00/612 [00:00<?, ?B/s]"
      ]
     },
     "metadata": {},
     "output_type": "display_data"
    },
    {
     "data": {
      "application/vnd.jupyter.widget-view+json": {
       "model_id": "ba31c9b02d3a49e1a08c42c53a448cb4",
       "version_major": 2,
       "version_minor": 0
      },
      "text/plain": [
       "model.safetensors:   0%|          | 0.00/90.9M [00:00<?, ?B/s]"
      ]
     },
     "metadata": {},
     "output_type": "display_data"
    },
    {
     "data": {
      "application/vnd.jupyter.widget-view+json": {
       "model_id": "8d8237bf41cd46fc9fd7e0c41af98818",
       "version_major": 2,
       "version_minor": 0
      },
      "text/plain": [
       "tokenizer_config.json:   0%|          | 0.00/350 [00:00<?, ?B/s]"
      ]
     },
     "metadata": {},
     "output_type": "display_data"
    },
    {
     "data": {
      "application/vnd.jupyter.widget-view+json": {
       "model_id": "9a7b0078cb534827b417cb9a0022e32b",
       "version_major": 2,
       "version_minor": 0
      },
      "text/plain": [
       "vocab.txt:   0%|          | 0.00/232k [00:00<?, ?B/s]"
      ]
     },
     "metadata": {},
     "output_type": "display_data"
    },
    {
     "data": {
      "application/vnd.jupyter.widget-view+json": {
       "model_id": "4c33b2505e1f4475983e2c1d41394045",
       "version_major": 2,
       "version_minor": 0
      },
      "text/plain": [
       "tokenizer.json:   0%|          | 0.00/466k [00:00<?, ?B/s]"
      ]
     },
     "metadata": {},
     "output_type": "display_data"
    },
    {
     "data": {
      "application/vnd.jupyter.widget-view+json": {
       "model_id": "f089004328a1451bbbfc013c877cd0ea",
       "version_major": 2,
       "version_minor": 0
      },
      "text/plain": [
       "special_tokens_map.json:   0%|          | 0.00/112 [00:00<?, ?B/s]"
      ]
     },
     "metadata": {},
     "output_type": "display_data"
    },
    {
     "data": {
      "application/vnd.jupyter.widget-view+json": {
       "model_id": "1c0185352b8b4b3399fbc6f2c3687e9f",
       "version_major": 2,
       "version_minor": 0
      },
      "text/plain": [
       "1_Pooling%2Fconfig.json:   0%|          | 0.00/190 [00:00<?, ?B/s]"
      ]
     },
     "metadata": {},
     "output_type": "display_data"
    }
   ],
   "source": [
    "model = SentenceTransformer(\"all-MiniLM-L6-v2\")"
   ]
  },
  {
   "cell_type": "code",
   "execution_count": 4,
   "id": "5c693327",
   "metadata": {},
   "outputs": [],
   "source": [
    "products = {\n",
    "    \"P1\": \"Wireless Bluetooth Headphones with Noise Cancellation\",\n",
    "    \"P2\": \"Over-Ear Headphones with Deep Bass and Mic\",\n",
    "    \"P3\": \"Smartphone with 108MP Camera and Fast Charging\",\n",
    "    \"P4\": \"Gaming Laptop with RTX 4090 GPU and 32GB RAM\",\n",
    "    \"P5\": \"Bluetooth Speaker with High Bass and LED Lights\",\n",
    "    \"P6\": \"Noise-Cancelling Earbuds with 24-Hour Battery Life\"\n",
    "}"
   ]
  },
  {
   "cell_type": "code",
   "execution_count": 5,
   "id": "1e798c97",
   "metadata": {},
   "outputs": [],
   "source": [
    "product_embeddings = model.encode(list(products.values()))"
   ]
  },
  {
   "cell_type": "code",
   "execution_count": 6,
   "id": "cd0aeb5d",
   "metadata": {},
   "outputs": [],
   "source": [
    "def search_products(query, top_n=2):\n",
    "    \"\"\"Search and recommend similar products using NLP.\"\"\"\n",
    "    query_embedding = model.encode([query])\n",
    "    similarities = cosine_similarity(query_embedding, product_embeddings)[0]\n",
    "    \n",
    "    # Get top N most similar products\n",
    "    top_indices = np.argsort(similarities)[-top_n:][::-1]\n",
    "    recommended_products = [(list(products.keys())[i], products[list(products.keys())[i]], similarities[i]) for i in top_indices]\n",
    "    \n",
    "    return recommended_products\n"
   ]
  },
  {
   "cell_type": "code",
   "execution_count": 7,
   "id": "d27876b0",
   "metadata": {},
   "outputs": [],
   "source": [
    "user_query = \"wireless earphones with noise cancelling\"\n",
    "recommendations = search_products(user_query, top_n=3)"
   ]
  },
  {
   "cell_type": "code",
   "execution_count": 8,
   "id": "d84f576e",
   "metadata": {},
   "outputs": [
    {
     "name": "stdout",
     "output_type": "stream",
     "text": [
      "Search Results:\n",
      "✅ Wireless Bluetooth Headphones with Noise Cancellation (Score: 0.88)\n",
      "✅ Noise-Cancelling Earbuds with 24-Hour Battery Life (Score: 0.69)\n",
      "✅ Over-Ear Headphones with Deep Bass and Mic (Score: 0.57)\n"
     ]
    }
   ],
   "source": [
    "print(\"Search Results:\")\n",
    "for pid, desc, score in recommendations:\n",
    "    print(f\"✅ {desc} (Score: {score:.2f})\")"
   ]
  },
  {
   "cell_type": "code",
   "execution_count": null,
   "id": "1cdfbb67",
   "metadata": {},
   "outputs": [],
   "source": []
  }
 ],
 "metadata": {
  "kernelspec": {
   "display_name": "Python 3 (ipykernel)",
   "language": "python",
   "name": "python3"
  },
  "language_info": {
   "codemirror_mode": {
    "name": "ipython",
    "version": 3
   },
   "file_extension": ".py",
   "mimetype": "text/x-python",
   "name": "python",
   "nbconvert_exporter": "python",
   "pygments_lexer": "ipython3",
   "version": "3.9.7"
  }
 },
 "nbformat": 4,
 "nbformat_minor": 5
}
